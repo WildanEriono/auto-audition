{
 "cells": [
  {
   "cell_type": "code",
   "execution_count": 7,
   "metadata": {},
   "outputs": [],
   "source": [
    "from PIL import Image\n",
    "import time\n",
    "import cv2\n",
    "import mss\n",
    "import numpy as np\n",
    "import imutils"
   ]
  },
  {
   "cell_type": "code",
   "execution_count": 8,
   "metadata": {},
   "outputs": [],
   "source": [
    "img_path = r'D:\\zother\\auto-audition\\data\\8.png'\n",
    "PLAY_AREA = (330, 510, 700, 580)\n",
    "KEYS_AREA = (330, 540, 700, 580)"
   ]
  },
  {
   "cell_type": "code",
   "execution_count": 9,
   "metadata": {},
   "outputs": [],
   "source": [
    "def show(cv_img):\n",
    "    Image.fromarray(cv_img).show()"
   ]
  },
  {
   "cell_type": "code",
   "execution_count": 10,
   "metadata": {},
   "outputs": [],
   "source": [
    "img = Image.open(img_path)\n",
    "keys_img = img.crop(KEYS_AREA)\n",
    "keys_img.show()"
   ]
  },
  {
   "cell_type": "code",
   "execution_count": 11,
   "metadata": {},
   "outputs": [],
   "source": [
    "im = cv2.imread(img_path)\n",
    "im = im[KEYS_AREA[1]:KEYS_AREA[3], KEYS_AREA[0]:KEYS_AREA[2]]\n",
    "gray = cv2.cvtColor(im, cv2.COLOR_BGRA2GRAY)\n",
    "show(im)"
   ]
  },
  {
   "cell_type": "code",
   "execution_count": 12,
   "metadata": {},
   "outputs": [],
   "source": [
    "_, thres = cv2.threshold(gray, 254, 255, cv2.THRESH_BINARY)\n",
    "show(thres)"
   ]
  },
  {
   "cell_type": "code",
   "execution_count": 31,
   "metadata": {},
   "outputs": [],
   "source": [
    "def sort_contours(cnts):\n",
    "\ti = 0\n",
    "\tboundingBoxes = [cv2.boundingRect(c) for c in cnts]\n",
    "\t(cnts, boundingBoxes) = zip(*sorted(zip(cnts, boundingBoxes),\n",
    "\t\tkey=lambda b:b[1][i]))\n",
    " \n",
    "\t# return the list of sorted contours and bounding boxes\n",
    "\treturn (cnts, boundingBoxes)\n",
    "\n",
    "def draw_contour(image, c, i):\n",
    "\tM = cv2.moments(c)\n",
    "\tcX = int(M[\"m10\"] / M[\"m00\"])\n",
    "\tcY = int(M[\"m01\"] / M[\"m00\"])\n",
    " \n",
    "\tcv2.putText(image, \"#{}\".format(i + 1), (cX, cY), cv2.FONT_HERSHEY_SIMPLEX,\n",
    "\t\t0.5, (0, 255, 0), 1)\n",
    " \n",
    "\treturn image\n",
    "\n",
    "def get_key_img(thres_img, cnt):\n",
    "\tmask = np.zeros(thres_img.shape, dtype='uint8')\n",
    "\tcv2.drawContours(mask, [cnt], -1, 255, -1)\n",
    "\tres = cv2.bitwise_and(thres_img, thres_img, mask=mask)\n",
    "\treturn res\n",
    "\n",
    "def get_key_roi(thres_img, boxes):\n",
    "\tres = thres_img[boxes[1]:(boxes[1]+boxes[3]), boxes[0]:(boxes[0]+boxes[2])]\n",
    "\treturn res"
   ]
  },
  {
   "cell_type": "code",
   "execution_count": 14,
   "metadata": {},
   "outputs": [],
   "source": [
    "cnts = cv2.findContours(thres.copy(), cv2.RETR_EXTERNAL, cv2.CHAIN_APPROX_SIMPLE)\n",
    "cnts = imutils.grab_contours(cnts)\n",
    "orig = im.copy()\n",
    "\n",
    "cv2.drawContours(orig, cnts, -1, (255, 0, 0), 1)\n",
    "show(orig)\n",
    "\n",
    "(cnts, boundingBoxes) = sort_contours(cnts)\n",
    "\n",
    "sorted_cnts = im.copy()\n",
    "for (i, c) in enumerate(cnts):\n",
    "\tdraw_contour(sorted_cnts, c, i)\n",
    "\n",
    "show(sorted_cnts)"
   ]
  },
  {
   "cell_type": "code",
   "execution_count": 28,
   "metadata": {},
   "outputs": [],
   "source": [
    "key0_img = get_key_img(thres, cnts[0])\n",
    "show(key0_img)"
   ]
  },
  {
   "cell_type": "code",
   "execution_count": 33,
   "metadata": {},
   "outputs": [],
   "source": [
    "key0_roi = get_key_roi(thres, boundingBoxes[0])\n",
    "show(key0_roi)"
   ]
  },
  {
   "cell_type": "code",
   "execution_count": 67,
   "metadata": {},
   "outputs": [],
   "source": [
    "def get_dir(roi):\n",
    "    h, w = roi.shape\n",
    "    reg1 = roi[:, 0:w//3]\n",
    "    reg2 = roi[2*h//3:h, :]\n",
    "    reg3 = roi[:, 2*w//3:w]\n",
    "    reg4 = roi[0:h//3, :]\n",
    "\n",
    "    rate1 = cv2.countNonZero(reg1)\n",
    "    rate2 = cv2.countNonZero(reg2)\n",
    "    rate3 = cv2.countNonZero(reg3)\n",
    "    rate4 = cv2.countNonZero(reg4)\n",
    "\n",
    "    # show(reg1)\n",
    "    # show(reg2)\n",
    "    # show(reg3)\n",
    "    # show(reg4)\n",
    "    arr = np.array((rate1, rate2, rate3, rate4))\n",
    "    # print(arr)\n",
    "\n",
    "    direction = np.argmax(arr)\n",
    "    return direction"
   ]
  },
  {
   "cell_type": "code",
   "execution_count": 68,
   "metadata": {},
   "outputs": [
    {
     "output_type": "stream",
     "name": "stdout",
     "text": "1\n2\n3\n2\n4\n1\n2\n3\n4\n"
    }
   ],
   "source": [
    "for i in range(len(boundingBoxes)):\n",
    "    key_roi = get_key_roi(thres, boundingBoxes[i])\n",
    "    direction = get_dir(key_roi)\n",
    "    print(direction+1)"
   ]
  },
  {
   "cell_type": "code",
   "execution_count": 58,
   "metadata": {},
   "outputs": [],
   "source": [
    "show(thres)"
   ]
  },
  {
   "cell_type": "code",
   "execution_count": 59,
   "metadata": {},
   "outputs": [
    {
     "output_type": "execute_result",
     "data": {
      "text/plain": "(40, 370)"
     },
     "metadata": {},
     "execution_count": 59
    }
   ],
   "source": [
    "thres.shape"
   ]
  },
  {
   "cell_type": "code",
   "execution_count": 60,
   "metadata": {},
   "outputs": [
    {
     "output_type": "execute_result",
     "data": {
      "text/plain": "(40, 10)"
     },
     "metadata": {},
     "execution_count": 60
    }
   ],
   "source": [
    "thres[:,0:10].shape"
   ]
  },
  {
   "cell_type": "code",
   "execution_count": null,
   "metadata": {},
   "outputs": [],
   "source": []
  }
 ],
 "metadata": {
  "language_info": {
   "codemirror_mode": {
    "name": "ipython",
    "version": 3
   },
   "file_extension": ".py",
   "mimetype": "text/x-python",
   "name": "python",
   "nbconvert_exporter": "python",
   "pygments_lexer": "ipython3",
   "version": "3.7.7-final"
  },
  "orig_nbformat": 2,
  "kernelspec": {
   "name": "python37764bitautoaucondaaa78fe2ce48640b5898cfa16d3cb9f60",
   "display_name": "Python 3.7.7 64-bit ('auto_au': conda)"
  }
 },
 "nbformat": 4,
 "nbformat_minor": 2
}