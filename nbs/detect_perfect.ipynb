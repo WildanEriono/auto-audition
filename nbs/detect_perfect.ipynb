{
 "cells": [
  {
   "cell_type": "code",
   "execution_count": 78,
   "metadata": {},
   "outputs": [],
   "source": [
    "from PIL import Image\n",
    "import time\n",
    "import cv2\n",
    "import mss\n",
    "import numpy as np\n",
    "import imutils\n",
    "import os"
   ]
  },
  {
   "cell_type": "code",
   "execution_count": 122,
   "metadata": {},
   "outputs": [],
   "source": [
    "def show(cv_img):\n",
    "    Image.fromarray(cv_img).show()\n",
    "def line(gray, p1, p2, color=255):\n",
    "    clone = gray.copy()\n",
    "    cv2.line(clone, p1, p2, color, 1)\n",
    "    return clone\n",
    "def rect(gray, x, y, w, h, color=255):\n",
    "    clone = gray.copy()\n",
    "    cv2.rectangle(clone, (x, y), (x + w, y + h), color, 1)\n",
    "    return clone\n",
    "def to_gray(img):\n",
    "    return cv2.cvtColor(img, cv2.COLOR_BGRA2GRAY)\n",
    "def get_perfect_area(img):\n",
    "    im = img[PERFECT_AREA[1]:PERFECT_AREA[3], PERFECT_AREA[0]:PERFECT_AREA[2]]\n",
    "    return im"
   ]
  },
  {
   "cell_type": "code",
   "execution_count": 145,
   "metadata": {},
   "outputs": [],
   "source": [
    "img_path = r'D:\\zother\\auto-audition\\data\\perfect.png'\n",
    "PLAY_AREA = (330, 510, 700, 580)\n",
    "PERFECT_AREA = (515, 520, 685, 525) # c1, r1, c2, r2\n",
    "MARKER_RANGE = (65, 73)\n",
    "MARKER_CENTER_OFFSET = 4\n",
    "PERFECT_POS = 119"
   ]
  },
  {
   "cell_type": "code",
   "execution_count": 87,
   "metadata": {},
   "outputs": [],
   "source": [
    "im = cv2.imread(img_path)\n",
    "im = im[PERFECT_AREA[1]:PERFECT_AREA[3], PERFECT_AREA[0]:PERFECT_AREA[2]]\n",
    "gray = cv2.cvtColor(im, cv2.COLOR_BGRA2GRAY)\n",
    "show(im)"
   ]
  },
  {
   "cell_type": "code",
   "execution_count": 146,
   "metadata": {},
   "outputs": [],
   "source": [
    "center = PERFECT_POS\n",
    "h, w = gray.shape\n",
    "p1 = (center, 0)\n",
    "p2 = (center, h-1)\n",
    "center_img = line(im, p1, p2, (0,255,0))\n",
    "show(center_img)"
   ]
  },
  {
   "cell_type": "code",
   "execution_count": 106,
   "metadata": {},
   "outputs": [
    {
     "output_type": "execute_result",
     "data": {
      "text/plain": "True"
     },
     "metadata": {},
     "execution_count": 106
    }
   ],
   "source": [
    "marker_img = gray[:, MARKER_RANGE[0]:MARKER_RANGE[1]]\n",
    "show(marker_img)\n",
    "cv2.imwrite('marker.png', marker_img)"
   ]
  },
  {
   "cell_type": "code",
   "execution_count": 83,
   "metadata": {},
   "outputs": [],
   "source": [
    "t1_path = r'D:\\zother\\auto-audition\\nbs\\t1_1590296396.2270615.png'\n",
    "t2_path = r'D:\\zother\\auto-audition\\nbs\\t2_1590296396.2619672.png'\n",
    "img1 = cv2.imread(t1_path)\n",
    "img2 = cv2.imread(t2_path)\n",
    "t1 = float(os.path.basename(t1_path)[3:-4])\n",
    "t2 = float(os.path.basename(t2_path)[3:-4])"
   ]
  },
  {
   "cell_type": "code",
   "execution_count": 111,
   "metadata": {},
   "outputs": [],
   "source": [
    "gray1 = to_gray(get_perfect_area(img1))\n",
    "gray2 = to_gray(get_perfect_area(img2))"
   ]
  },
  {
   "cell_type": "code",
   "execution_count": 112,
   "metadata": {},
   "outputs": [],
   "source": [
    "show(gray1)\n",
    "show(gray2)"
   ]
  },
  {
   "cell_type": "code",
   "execution_count": 117,
   "metadata": {},
   "outputs": [],
   "source": [
    "marker_path = r'D:\\zother\\auto-audition\\data\\marker.png'\n",
    "marker_img = cv2.imread(marker_path, cv2.IMREAD_GRAYSCALE)\n",
    "(tempH, tempW) = marker_img.shape"
   ]
  },
  {
   "cell_type": "code",
   "execution_count": 148,
   "metadata": {},
   "outputs": [],
   "source": [
    "def get_marker_pos(perfect_area, marker):\n",
    "    result = cv2.matchTemplate(perfect_area, marker_img, cv2.TM_CCOEFF)\n",
    "    (minVal, maxVal, minLoc, (x, y)) = cv2.minMaxLoc(result)\n",
    "    return x + MARKER_CENTER_OFFSET\n",
    "def show_marker_pos_img(gray, marker_pos):\n",
    "    h, w = gray.shape[:2]\n",
    "    matching_img = line(gray, (marker_pos, 0), (marker_pos, h-1))\n",
    "    show(matching_img)\n",
    "def waiting_time(speed, curr):\n",
    "    t = (PERFECT_POS - curr) / speed\n",
    "    return t"
   ]
  },
  {
   "cell_type": "code",
   "execution_count": 142,
   "metadata": {},
   "outputs": [
    {
     "output_type": "execute_result",
     "data": {
      "text/plain": "(13, 15)"
     },
     "metadata": {},
     "execution_count": 142
    }
   ],
   "source": [
    "marker_pos_1 = get_marker_pos(gray1, marker_img)\n",
    "marker_pos_2 = get_marker_pos(gray2, marker_img)\n",
    "show_marker_pos_img(gray1, marker_pos_1)\n",
    "show_marker_pos_img(gray2, marker_pos_2)\n",
    "marker_pos_1, marker_pos_2"
   ]
  },
  {
   "cell_type": "code",
   "execution_count": 144,
   "metadata": {},
   "outputs": [
    {
     "output_type": "execute_result",
     "data": {
      "text/plain": "57.2972780984256"
     },
     "metadata": {},
     "execution_count": 144
    }
   ],
   "source": [
    "speed = (marker_pos_2 - marker_pos_1) / (t2-t1)\n",
    "speed"
   ]
  },
  {
   "cell_type": "code",
   "execution_count": 149,
   "metadata": {},
   "outputs": [
    {
     "output_type": "execute_result",
     "data": {
      "text/plain": "1.8150949478149414"
     },
     "metadata": {},
     "execution_count": 149
    }
   ],
   "source": [
    "t = waiting_time(speed, marker_pos_2)\n",
    "t"
   ]
  },
  {
   "cell_type": "code",
   "execution_count": null,
   "metadata": {},
   "outputs": [],
   "source": []
  }
 ],
 "metadata": {
  "language_info": {
   "codemirror_mode": {
    "name": "ipython",
    "version": 3
   },
   "file_extension": ".py",
   "mimetype": "text/x-python",
   "name": "python",
   "nbconvert_exporter": "python",
   "pygments_lexer": "ipython3",
   "version": "3.7.7-final"
  },
  "orig_nbformat": 2,
  "kernelspec": {
   "name": "python37764bitautoaucondaaa78fe2ce48640b5898cfa16d3cb9f60",
   "display_name": "Python 3.7.7 64-bit ('auto_au': conda)"
  }
 },
 "nbformat": 4,
 "nbformat_minor": 2
}