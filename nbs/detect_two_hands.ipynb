{
 "cells": [
  {
   "cell_type": "code",
   "execution_count": 1,
   "metadata": {},
   "outputs": [],
   "source": [
    "from PIL import Image\n",
    "from pathlib import Path\n",
    "import time\n",
    "import cv2\n",
    "import mss\n",
    "import numpy as np\n",
    "import imutils"
   ]
  },
  {
   "cell_type": "code",
   "execution_count": 2,
   "metadata": {},
   "outputs": [],
   "source": [
    "def read(p):\n",
    "    return cv2.imread(p)\n",
    "def show(cv_img):\n",
    "    cv2.imshow(\"test\", cv_img)\n",
    "    cv2.waitKey()\n",
    "    cv2.destroyAllWindows()"
   ]
  },
  {
   "cell_type": "code",
   "execution_count": 14,
   "metadata": {},
   "outputs": [],
   "source": [
    "img_path = r'..\\data\\two_hands.png'\n",
    "im = cv2.imread(img_path)\n",
    "gray = cv2.cvtColor(im, cv2.COLOR_BGRA2GRAY)\n",
    "show(im)"
   ]
  },
  {
   "cell_type": "code",
   "execution_count": 15,
   "metadata": {},
   "outputs": [],
   "source": [
    "_, thres = cv2.threshold(gray, 254, 255, cv2.THRESH_BINARY)\n",
    "show(thres)"
   ]
  },
  {
   "cell_type": "code",
   "execution_count": 16,
   "metadata": {},
   "outputs": [],
   "source": [
    "def sort_contours(cnts):\n",
    "\ti = 0\n",
    "\tboundingBoxes = [cv2.boundingRect(c) for c in cnts]\n",
    "\t(cnts, boundingBoxes) = zip(*sorted(zip(cnts, boundingBoxes),\n",
    "\t\tkey=lambda b:b[1][i]))\n",
    " \n",
    "\t# return the list of sorted contours and bounding boxes\n",
    "\treturn (cnts, boundingBoxes)\n",
    "\n",
    "def draw_contour(image, c, i):\n",
    "\tM = cv2.moments(c)\n",
    "\tcX = int(M[\"m10\"] / M[\"m00\"])\n",
    "\tcY = int(M[\"m01\"] / M[\"m00\"])\n",
    " \n",
    "\tcv2.putText(image, \"#{}\".format(i + 1), (cX, cY), cv2.FONT_HERSHEY_SIMPLEX,\n",
    "\t\t0.5, (0, 255, 0), 1)\n",
    " \n",
    "\treturn image\n",
    "\n",
    "def get_key_img(thres_img, cnt):\n",
    "\tmask = np.zeros(thres_img.shape, dtype='uint8')\n",
    "\tcv2.drawContours(mask, [cnt], -1, 255, -1)\n",
    "\tres = cv2.bitwise_and(thres_img, thres_img, mask=mask)\n",
    "\treturn res\n",
    "\n",
    "def get_key_roi(thres_img, boxes):\n",
    "\tres = thres_img[boxes[1]:(boxes[1]+boxes[3]), boxes[0]:(boxes[0]+boxes[2])]\n",
    "\treturn res"
   ]
  },
  {
   "cell_type": "code",
   "execution_count": 17,
   "metadata": {},
   "outputs": [],
   "source": [
    "cnts = cv2.findContours(thres.copy(), cv2.RETR_EXTERNAL, cv2.CHAIN_APPROX_SIMPLE)\n",
    "cnts = imutils.grab_contours(cnts)\n",
    "orig = im.copy()\n",
    "\n",
    "cv2.drawContours(orig, cnts, -1, (255, 0, 0), 1)\n",
    "show(orig)\n",
    "\n",
    "(cnts, boundingBoxes) = sort_contours(cnts)\n",
    "\n",
    "sorted_cnts = im.copy()\n",
    "for (i, c) in enumerate(cnts):\n",
    "\tdraw_contour(sorted_cnts, c, i)\n",
    "\n",
    "show(sorted_cnts)"
   ]
  },
  {
   "cell_type": "code",
   "execution_count": 18,
   "metadata": {},
   "outputs": [],
   "source": [
    "key0_img = get_key_img(thres, cnts[0])\n",
    "show(key0_img)"
   ]
  },
  {
   "cell_type": "code",
   "execution_count": 26,
   "metadata": {},
   "outputs": [],
   "source": [
    "key0_roi = get_key_roi(im, boundingBoxes[0])\n",
    "show(key0_roi)"
   ]
  },
  {
   "cell_type": "code",
   "execution_count": 42,
   "metadata": {},
   "outputs": [
    {
     "data": {
      "text/plain": [
       "(143393, 92413)"
      ]
     },
     "execution_count": 42,
     "metadata": {},
     "output_type": "execute_result"
    }
   ],
   "source": [
    "key_roi = get_key_roi(im, boundingBoxes[0])\n",
    "show(key_roi)\n",
    "b, g, r = cv2.split(key_roi)\n",
    "np.sum(b), np.sum(r)"
   ]
  },
  {
   "cell_type": "code",
   "execution_count": 43,
   "metadata": {},
   "outputs": [
    {
     "data": {
      "text/plain": [
       "(148445, 129517)"
      ]
     },
     "execution_count": 43,
     "metadata": {},
     "output_type": "execute_result"
    }
   ],
   "source": [
    "key_roi = get_key_roi(im, boundingBoxes[1])\n",
    "show(key_roi)\n",
    "b, g, r = cv2.split(key_roi)\n",
    "np.sum(b), np.sum(r)\n"
   ]
  },
  {
   "cell_type": "code",
   "execution_count": 27,
   "metadata": {},
   "outputs": [
    {
     "data": {
      "text/plain": [
       "(231, 0)"
      ]
     },
     "execution_count": 27,
     "metadata": {},
     "output_type": "execute_result"
    }
   ],
   "source": [
    "key_roi = get_key_roi(im, boundingBoxes[0])\n",
    "hsv = cv2.cvtColor(key_roi, cv2.COLOR_BGR2HSV)\n",
    "\n",
    "lower_blue = np.array([110,100,100])\n",
    "upper_blue = np.array([130,255,255])\n",
    "mask = cv2.inRange(hsv, lower_blue, upper_blue)\n",
    "show(mask)\n",
    "cnt_blue = cv2.countNonZero(mask)\n",
    "\n",
    "lower_red = np.array([-10,100,100])\n",
    "upper_red = np.array([10,255,255])\n",
    "mask = cv2.inRange(hsv, lower_red, upper_red)\n",
    "show(mask)\n",
    "cnt_red = cv2.countNonZero(mask)\n",
    "\n",
    "cnt_blue, cnt_red"
   ]
  },
  {
   "cell_type": "code",
   "execution_count": 11,
   "metadata": {},
   "outputs": [],
   "source": [
    "class KeysDetector:\n",
    "    UP = \"UP\"\n",
    "    DOWN = \"DOWN\"\n",
    "    LEFT = \"LEFT\"\n",
    "    RIGHT = \"RIGHT\"\n",
    "    UP_LEFT = \"UP_LEFT\"\n",
    "    DOWN_LEFT = \"DOWN_LEFT\"\n",
    "    UP_RIGHT = \"UP_RIGHT\"\n",
    "    DOWN_RIGHT = \"DOWN_RIGHT\"\n",
    "\n",
    "def get_dir(roi):\n",
    "    h, w = roi.shape\n",
    "    reg0 = roi[:, 0 : w // 3]\n",
    "    reg1 = roi[0 : h // 3, :]\n",
    "    reg2 = roi[:, 2 * w // 3 : w]\n",
    "    reg3 = roi[2 * h // 3 : h, :]\n",
    "\n",
    "    rate0 = cv2.countNonZero(reg0)\n",
    "    rate1 = cv2.countNonZero(reg1)\n",
    "    rate2 = cv2.countNonZero(reg2)\n",
    "    rate3 = cv2.countNonZero(reg3)\n",
    "\n",
    "    arr = np.array((rate0, rate1, rate2, rate3))\n",
    "    print(arr)\n",
    "    sorted_idx = arr.argsort()[::-1]\n",
    "    print(sorted_idx)\n",
    "    max_idx1 = sorted_idx[0]\n",
    "    max_idx2 = sorted_idx[1]\n",
    "    max1 = arr[max_idx1]\n",
    "    max2 = arr[max_idx2]\n",
    "    if max2 / max1 < 0.63:\n",
    "        if max_idx1 == 0: return KeysDetector.LEFT\n",
    "        elif max_idx1 == 1: return KeysDetector.UP\n",
    "        elif max_idx1 == 2: return KeysDetector.RIGHT\n",
    "        elif max_idx1 == 3: return KeysDetector.DOWN\n",
    "    else:\n",
    "        if max_idx1 == 0 and max_idx2 == 1: return KeysDetector.UP_LEFT\n",
    "        elif max_idx2 == 0 and max_idx1 == 1: return KeysDetector.UP_LEFT\n",
    "\n",
    "        elif max_idx1 == 0 and max_idx2 == 3: return KeysDetector.DOWN_LEFT\n",
    "        elif max_idx2 == 0 and max_idx1 == 3: return KeysDetector.DOWN_LEFT\n",
    "        \n",
    "        elif max_idx1 == 2 and max_idx2 == 1: return KeysDetector.UP_RIGHT\n",
    "        elif max_idx2 == 2 and max_idx1 == 1: return KeysDetector.UP_RIGHT\n",
    "\n",
    "        elif max_idx1 == 2 and max_idx2 == 3: return KeysDetector.DOWN_RIGHT\n",
    "        elif max_idx2 == 2 and max_idx1 == 3: return KeysDetector.DOWN_RIGHT\n",
    "\n",
    "        else: return KeysDetector.UP"
   ]
  },
  {
   "cell_type": "code",
   "execution_count": 12,
   "metadata": {},
   "outputs": [
    {
     "name": "stdout",
     "output_type": "stream",
     "text": [
      "[69 45 50 89]\n",
      "[3 0 2 1]\n",
      "DOWN_LEFT\n",
      "[41 96 99 51]\n",
      "[2 1 3 0]\n",
      "UP_RIGHT\n",
      "[30 80 40 34]\n",
      "[1 2 3 0]\n",
      "UP\n",
      "[70 92 53 47]\n",
      "[1 0 2 3]\n",
      "UP_LEFT\n",
      "[69 45 50 89]\n",
      "[3 0 2 1]\n",
      "DOWN_LEFT\n",
      "[32 31 39 90]\n",
      "[3 2 0 1]\n",
      "DOWN\n",
      "[40 32 38 95]\n",
      "[3 0 2 1]\n",
      "DOWN\n",
      "[36 34 85 40]\n",
      "[2 3 0 1]\n",
      "RIGHT\n",
      "[36 75 88 50]\n",
      "[2 1 3 0]\n",
      "UP_RIGHT\n",
      "[69 46 50 90]\n",
      "[3 0 2 1]\n",
      "DOWN_LEFT\n",
      "[39 31 36 92]\n",
      "[3 0 2 1]\n",
      "DOWN\n"
     ]
    }
   ],
   "source": [
    "for i in range(len(boundingBoxes)):\n",
    "    key_roi = get_key_roi(thres, boundingBoxes[i])\n",
    "    direction = get_dir(key_roi)\n",
    "    print(direction)"
   ]
  },
  {
   "cell_type": "code",
   "execution_count": 58,
   "metadata": {},
   "outputs": [],
   "source": [
    "show(thres)"
   ]
  },
  {
   "cell_type": "code",
   "execution_count": 59,
   "metadata": {},
   "outputs": [
    {
     "data": {
      "text/plain": [
       "(40, 370)"
      ]
     },
     "execution_count": 59,
     "metadata": {},
     "output_type": "execute_result"
    }
   ],
   "source": [
    "thres.shape"
   ]
  },
  {
   "cell_type": "code",
   "execution_count": 60,
   "metadata": {},
   "outputs": [
    {
     "data": {
      "text/plain": [
       "(40, 10)"
      ]
     },
     "execution_count": 60,
     "metadata": {},
     "output_type": "execute_result"
    }
   ],
   "source": [
    "thres[:,0:10].shape"
   ]
  },
  {
   "cell_type": "code",
   "execution_count": null,
   "metadata": {},
   "outputs": [],
   "source": []
  }
 ],
 "metadata": {
  "interpreter": {
   "hash": "cd0ba436409f8a4912064912ba9352e18fdc7cc358030ad0e38e7d7655cbab2c"
  },
  "kernelspec": {
   "display_name": "Python 3.7.7 64-bit ('au': conda)",
   "name": "python3"
  },
  "language_info": {
   "codemirror_mode": {
    "name": "ipython",
    "version": 3
   },
   "file_extension": ".py",
   "mimetype": "text/x-python",
   "name": "python",
   "nbconvert_exporter": "python",
   "pygments_lexer": "ipython3",
   "version": "3.7.7"
  },
  "orig_nbformat": 2
 },
 "nbformat": 4,
 "nbformat_minor": 2
}