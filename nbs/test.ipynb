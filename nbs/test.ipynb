{
 "cells": [
  {
   "cell_type": "code",
   "execution_count": 1,
   "metadata": {},
   "outputs": [
    {
     "output_type": "execute_result",
     "data": {
      "text/plain": "[<uiawrapper.UIAWrapper - 'Audition', Dialog, 3713040619748411381>]"
     },
     "metadata": {},
     "execution_count": 1
    }
   ],
   "source": [
    "from pywinauto.application import Application\n",
    "import pywinauto.mouse as mouse\n",
    "import pywinauto.keyboard as keyboard\n",
    "import datetime\n",
    "\n",
    "app = Application(backend='uia').connect(process=3752)\n",
    "app.windows()"
   ]
  },
  {
   "cell_type": "code",
   "execution_count": 2,
   "metadata": {},
   "outputs": [],
   "source": [
    "dlg = app['Audition']"
   ]
  },
  {
   "cell_type": "code",
   "execution_count": 6,
   "metadata": {},
   "outputs": [
    {
     "output_type": "execute_result",
     "data": {
      "text/plain": "pywinauto.application.WindowSpecification"
     },
     "metadata": {},
     "execution_count": 6
    }
   ],
   "source": [
    "type(dlg)"
   ]
  },
  {
   "cell_type": "code",
   "execution_count": 4,
   "metadata": {},
   "outputs": [],
   "source": [
    "dlg.set_focus()\n",
    "debug_image = dlg.capture_as_image()\n",
    "debug_image.save('2.png')"
   ]
  },
  {
   "cell_type": "code",
   "execution_count": 5,
   "metadata": {
    "tags": [
     "outputPrepend",
     "outputPrepend",
     "outputPrepend",
     "outputPrepend",
     "outputPrepend",
     "outputPrepend",
     "outputPrepend",
     "outputPrepend",
     "outputPrepend",
     "outputPrepend",
     "outputPrepend",
     "outputPrepend",
     "outputPrepend",
     "outputPrepend",
     "outputPrepend",
     "outputPrepend",
     "outputPrepend",
     "outputPrepend",
     "outputPrepend",
     "outputPrepend",
     "outputPrepend",
     "outputPrepend",
     "outputPrepend",
     "outputPrepend",
     "outputPrepend",
     "outputPrepend",
     "outputPrepend",
     "outputPrepend",
     "outputPrepend",
     "outputPrepend",
     "outputPrepend",
     "outputPrepend",
     "outputPrepend",
     "outputPrepend",
     "outputPrepend",
     "outputPrepend",
     "outputPrepend",
     "outputPrepend",
     "outputPrepend",
     "outputPrepend",
     "outputPrepend",
     "outputPrepend",
     "outputPrepend",
     "outputPrepend",
     "outputPrepend",
     "outputPrepend",
     "outputPrepend",
     "outputPrepend",
     "outputPrepend",
     "outputPrepend",
     "outputPrepend",
     "outputPrepend",
     "outputPrepend",
     "outputPrepend",
     "outputPrepend",
     "outputPrepend",
     "outputPrepend",
     "outputPrepend",
     "outputPrepend",
     "outputPrepend",
     "outputPrepend",
     "outputPrepend",
     "outputPrepend",
     "outputPrepend",
     "outputPrepend",
     "outputPrepend",
     "outputPrepend",
     "outputPrepend",
     "outputPrepend",
     "outputPrepend",
     "outputPrepend",
     "outputPrepend",
     "outputPrepend",
     "outputPrepend",
     "outputPrepend",
     "outputPrepend",
     "outputPrepend",
     "outputPrepend",
     "outputPrepend",
     "outputPrepend",
     "outputPrepend",
     "outputPrepend"
    ]
   },
   "outputs": [
    {
     "output_type": "stream",
     "name": "stdout",
     "text": "{'top': 644, 'left': 417, 'width': 375, 'height': 75}\n"
    }
   ],
   "source": [
    "from PIL import Image\n",
    "import time\n",
    "import cv2\n",
    "import mss\n",
    "import numpy\n",
    "\n",
    "dlg.set_focus()\n",
    "with mss.mss() as sct:\n",
    "    # Part of the screen to capture\n",
    "    rect = dlg.rectangle()\n",
    "    monitor = {\n",
    "        \"top\": rect.top + 510,\n",
    "        \"left\": rect.left + 330,\n",
    "        \"width\": 375,\n",
    "        \"height\": 75,\n",
    "    }\n",
    "    print(monitor)\n",
    "\n",
    "    # last_time = time.time()\n",
    "\n",
    "    # Get raw pixels from the screen, save it to a Numpy array\n",
    "    sct_img = sct.grab(monitor)\n",
    "    \n",
    "    img = Image.frombytes(\"RGB\", sct_img.size, sct_img.bgra, \"raw\", \"BGRX\")\n",
    "    img.show()\n",
    "\n",
    "    # img = numpy.array(sct_img)\n",
    "\n",
    "    # Display the picture\n",
    "    # cv2.imshow(\"OpenCV/Numpy normal\", img)\n",
    "\n",
    "    # Display the picture in grayscale\n",
    "    # cv2.imshow('OpenCV/Numpy grayscale',\n",
    "    #            cv2.cvtColor(img, cv2.COLOR_BGRA2GRAY))\n",
    "\n",
    "    # print(\"fps: {}\".format(1 / (time.time() - last_time)))\n",
    "\n",
    "    # Press \"q\" to quit\n",
    "    # if cv2.waitKey(25) & 0xFF == ord(\"q\"):\n",
    "    #     cv2.destroyAllWindows()\n",
    "    #     break\n",
    "\n",
    "    # cv2.destroyAllWindows()\n"
   ]
  },
  {
   "cell_type": "code",
   "execution_count": 7,
   "metadata": {},
   "outputs": [
    {
     "output_type": "execute_result",
     "data": {
      "text/plain": "pywinauto.win32structures.RECT"
     },
     "metadata": {},
     "execution_count": 7
    }
   ],
   "source": [
    "type(rect)"
   ]
  },
  {
   "cell_type": "code",
   "execution_count": null,
   "metadata": {},
   "outputs": [],
   "source": []
  }
 ],
 "metadata": {
  "language_info": {
   "codemirror_mode": {
    "name": "ipython",
    "version": 3
   },
   "file_extension": ".py",
   "mimetype": "text/x-python",
   "name": "python",
   "nbconvert_exporter": "python",
   "pygments_lexer": "ipython3",
   "version": "3.7.7-final"
  },
  "orig_nbformat": 2,
  "kernelspec": {
   "name": "python37764bitautoaucondaaa78fe2ce48640b5898cfa16d3cb9f60",
   "display_name": "Python 3.7.7 64-bit ('auto_au': conda)"
  }
 },
 "nbformat": 4,
 "nbformat_minor": 2
}